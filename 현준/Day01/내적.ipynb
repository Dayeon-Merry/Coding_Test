{
 "cells": [
  {
   "cell_type": "markdown",
   "id": "b95b1ce9",
   "metadata": {},
   "source": [
    "### 문제 설명\n",
    "길이가 같은 두 1차원 정수 배열 a, b가 매개변수로 주어집니다. a와 b의 내적을 return 하도록 solution 함수를 완성해주세요.\n",
    "\n",
    "이때, a와 b의 내적은 a[0]*b[0] + a[1]*b[1] + ... + a[n-1]*b[n-1] 입니다. (n은 a, b의 길이)\n",
    "\n",
    "### 제한 조건\n",
    "- a, b의 길이는 1 이상 1,000 이하입니다.\n",
    "- a, b의 모든 수는 -1,000 이상 1,000 이하입니다.\n",
    "\n",
    "### 입출력 예\n",
    "|n|b|result|\n",
    "|------|------|------|\n",
    "|[1,2,3,4]|[-3,-1,0,2]|3|\n",
    "|[-1,0,1]|[1,0,-1]|-2|\n",
    "\n",
    "### 입출력 예 설명\n",
    "입출력 예 #1\n",
    "- a와 b의 내적은 1*(-3) + 2*(-1) + 3*0 + 4*2 = 3 입니다.\n",
    "\n",
    "입출력 예 #2\n",
    "- a와 b의 내적은 (-1)*1 + 0*0 + 1*(-1) = -2 입니다."
   ]
  },
  {
   "cell_type": "code",
   "execution_count": 1,
   "id": "f8b2d1b9",
   "metadata": {},
   "outputs": [],
   "source": [
    "def solution(a, b):\n",
    "    answer = 0\n",
    "    for i, j in zip(a, b):\n",
    "        answer += i * j\n",
    "    \n",
    "    return answer"
   ]
  },
  {
   "cell_type": "code",
   "execution_count": null,
   "id": "f60827e7",
   "metadata": {},
   "outputs": [],
   "source": []
  }
 ],
 "metadata": {
  "kernelspec": {
   "display_name": "Python 3 (ipykernel)",
   "language": "python",
   "name": "python3"
  },
  "language_info": {
   "codemirror_mode": {
    "name": "ipython",
    "version": 3
   },
   "file_extension": ".py",
   "mimetype": "text/x-python",
   "name": "python",
   "nbconvert_exporter": "python",
   "pygments_lexer": "ipython3",
   "version": "3.8.6"
  }
 },
 "nbformat": 4,
 "nbformat_minor": 5
}
